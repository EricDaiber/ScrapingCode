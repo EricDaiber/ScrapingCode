{
 "cells": [
  {
   "cell_type": "code",
   "execution_count": 1,
   "id": "ef681020",
   "metadata": {},
   "outputs": [],
   "source": [
    "#Importierte Module/Funktionen\n",
    "import requests\n",
    "from bs4 import BeautifulSoup\n",
    "import openpyxl\n",
    "import datetime\n"
   ]
  },
  {
   "cell_type": "code",
   "execution_count": 2,
   "id": "a55e14a6",
   "metadata": {
    "scrolled": true
   },
   "outputs": [
    {
     "name": "stdout",
     "output_type": "stream",
     "text": [
      "https://capital.com/de/apple-inc-aktienkurs :\n",
      "Scraping ist possible\n",
      "https://capital.com/de/nvidia-aktienkurs :\n",
      "Scraping ist possible\n",
      "https://capital.com/de/bank-of-america-aktienkurs :\n",
      "Scraping ist possible\n"
     ]
    }
   ],
   "source": [
    "#Liste der URLs\n",
    "url1 = \"https://capital.com/de/apple-inc-aktienkurs\"\n",
    "url2 = \"https://capital.com/de/nvidia-aktienkurs\"\n",
    "url3 = \"https://capital.com/de/bank-of-america-aktienkurs\"\n",
    "url_test=[url1, url2, url3]\n",
    "\n",
    "#Überprüfung ob Scraping auf den jeweiligen Seiten möglich ist\n",
    "for r in url_test:\n",
    "    print(r, \":\")\n",
    "    check=requests.get(r)\n",
    "    \n",
    "    if check.status_code==200:\n",
    "        print(\"Scraping ist possible\")\n",
    "    else:\n",
    "        print(\"Scraping is not possible\")\n",
    "        print()\n",
    "        print(\"Please use a different URL!\")\n",
    "        break\n",
    "        "
   ]
  },
  {
   "cell_type": "code",
   "execution_count": 3,
   "id": "7602ef4c",
   "metadata": {},
   "outputs": [],
   "source": [
    "#Versuch die vorgegebene Datei: ROI Berechnung.xlsx im selben Verzeichnis zu finden\n",
    "try:\n",
    "    excel_file_path = \"ROI Berechnung.xlsx\"\n",
    "    workbook=openpyxl.load_workbook(excel_file_path)\n",
    "    \n",
    "    #Bei Fehlschlag wird der konkrete Dateipfad nachgefragt\n",
    "except:\n",
    "    excel_file_path = input(\"Enter the file path to the file: 'ROI Berechnung.xlsx'\")\n",
    "    \n",
    "    #Versuch den Dateipfad zu verwenden um die benötigte Datei zu finden\n",
    "    try:\n",
    "        workbook=openpyxl.load_workbook(excel_file_path)\n",
    "    \n",
    "    #Bei Fehlschlag wird eine Fehlermeldung angezeigt\n",
    "    except:\n",
    "        print(\"Die benötigte Datei konnte unter dem angegeben Pfad nicht gefunden werden!\")\n",
    "        print()\n",
    "        print(\"Starten Sie Sie den Code von neu\")\n"
   ]
  },
  {
   "cell_type": "code",
   "execution_count": 4,
   "id": "91819789",
   "metadata": {
    "scrolled": true
   },
   "outputs": [
    {
     "name": "stdout",
     "output_type": "stream",
     "text": [
      "172.05\n",
      "308.45\n",
      "28.79\n"
     ]
    }
   ],
   "source": [
    "#Erfassen des richten Excel-Blatt\n",
    "sheet_name = \"Top 3 Aktien\"\n",
    "sheet = workbook[sheet_name]\n",
    "\n",
    "#Index damit die Werte ab der zweiten Zeile eingetragen werden\n",
    "column_index = 3\n",
    "\n",
    "#Angegebene URL wird verwendet, um den HTML-Code abzubilden\n",
    "for p in url_test:\n",
    "    page=requests.get(p)\n",
    "    source_c=BeautifulSoup(page.text, 'html.parser')\n",
    "    \n",
    "    #Ausfilterung des Aktienkurs\n",
    "    for data in source_c.find_all(\"b\"):\n",
    "        text = data.text.strip()\n",
    "        \n",
    "        # Überprüfung ob der Text eine Zahl bzw. Float ist\n",
    "        if text.replace(\".\", \"\", 1).isdigit():  \n",
    "            value = float(text)\n",
    "            print(value)\n",
    "            \n",
    "            #Eintragung in Excel\n",
    "            zelle_v = sheet.cell(row=6, column=column_index)\n",
    "            zelle_v.value = value\n",
    "            column_index += 6\n",
    "            break\n",
    "        else: \n",
    "            print(\"ERROR keine Zahl\")\n",
    "            "
   ]
  },
  {
   "cell_type": "code",
   "execution_count": 5,
   "id": "a497ffd1",
   "metadata": {},
   "outputs": [],
   "source": [
    "#Abrufen des aktuellen Datum\n",
    "current_date = datetime.datetime.now().date()\n",
    "\n",
    "#Übertragung des Datum in die Excel\n",
    "zelle_date = sheet[\"D13\"]\n",
    "zelle_date.value = current_date\n"
   ]
  },
  {
   "cell_type": "code",
   "execution_count": 6,
   "id": "8b2581c4",
   "metadata": {},
   "outputs": [
    {
     "name": "stdout",
     "output_type": "stream",
     "text": [
      "Daten wurden erfolgreich in die Excel-Datei eingespeichert.\n"
     ]
    }
   ],
   "source": [
    "#Speicherung der Excel \n",
    "try:\n",
    "    workbook.save(excel_file_path)\n",
    "    print(\"Daten wurden erfolgreich in die Excel-Datei eingespeichert.\")\n",
    "\n",
    "except FileNotFoundError: \n",
    "    print(\"Daten konnten nicht in die Excel gespeichert werden!\")"
   ]
  }
 ],
 "metadata": {
  "kernelspec": {
   "display_name": "Python 3 (ipykernel)",
   "language": "python",
   "name": "python3"
  },
  "language_info": {
   "codemirror_mode": {
    "name": "ipython",
    "version": 3
   },
   "file_extension": ".py",
   "mimetype": "text/x-python",
   "name": "python",
   "nbconvert_exporter": "python",
   "pygments_lexer": "ipython3",
   "version": "3.9.12"
  }
 },
 "nbformat": 4,
 "nbformat_minor": 5
}
