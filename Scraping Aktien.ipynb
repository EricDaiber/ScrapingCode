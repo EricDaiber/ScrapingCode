{
 "cells": [
  {
   "cell_type": "code",
   "execution_count": 1,
   "id": "ef681020",
   "metadata": {},
   "outputs": [],
   "source": [
    "#Importierte Module/Funktionen\n",
    "import requests\n",
    "from bs4 import BeautifulSoup\n",
    "import openpyxl\n",
    "from openpyxl.styles import PatternFill\n",
    "from openpyxl.styles import Border, Side\n"
   ]
  },
  {
   "cell_type": "code",
   "execution_count": 2,
   "id": "a55e14a6",
   "metadata": {
    "scrolled": true
   },
   "outputs": [
    {
     "name": "stdout",
     "output_type": "stream",
     "text": [
      "https://capital.com/de/apple-inc-aktienkurs :\n",
      "Scraping is possible\n",
      "https://capital.com/de/nvidia-aktienkurs :\n",
      "Scraping is possible\n",
      "https://capital.com/de/bank-of-america-aktienkurs :\n",
      "Scraping is possible\n"
     ]
    }
   ],
   "source": [
    "#Liste der URLs\n",
    "url1 = \"https://capital.com/de/apple-inc-aktienkurs\"\n",
    "url2 = \"https://capital.com/de/nvidia-aktienkurs\"\n",
    "url3 = \"https://capital.com/de/bank-of-america-aktienkurs\"\n",
    "url_test=[url1, url2, url3]\n",
    "\n",
    "#Überprüfung ob Scraping auf den jeweiligen Seiten möglich ist\n",
    "for r in url_test:\n",
    "    print(r, \":\")\n",
    "    check=requests.get(r)\n",
    "    \n",
    "    if check.status_code==200:\n",
    "        print(\"Scraping is possible\")\n",
    "    else:\n",
    "        print(\"Scraping is limited\")\n",
    "        print()\n",
    "        print(\"Please use a different URL!\")\n",
    "        break\n",
    "        "
   ]
  },
  {
   "cell_type": "code",
   "execution_count": 3,
   "id": "7602ef4c",
   "metadata": {},
   "outputs": [],
   "source": [
    "#Starten einer Excel.Datei\n",
    "workbook = openpyxl.Workbook()\n",
    "sheet = workbook.active\n",
    "\n",
    "#Bearbeitung der Spaltenbreite\n",
    "columns = [\"A\", \"B\"]\n",
    "column_width = 20  \n",
    "\n",
    "for column in columns:\n",
    "    sheet.column_dimensions[column].width = column_width\n",
    "\n",
    "# Schattierung der Zellen wird bearbeitet\n",
    "cell_color = PatternFill(start_color=\"3A9EF8\", end_color=\"3A9EF8\", fill_type=\"solid\")\n",
    "cell1= sheet[\"A1\"]\n",
    "cell2= sheet[\"B1\"]\n",
    "cell1.fill=cell_color\n",
    "cell2.fill=cell_color\n",
    "\n",
    "# Rahmenlinien der Überschrift-Zellen wird eingestellt\n",
    "border_style = Side(border_style=\"medium\", color=\"000000\")\n",
    "border = Border(top=border_style, right=border_style, bottom=border_style, left=border_style)\n",
    "cell1.border = border\n",
    "cell2.border = border\n",
    "\n",
    "# Rahmenlinien der unteren Zellen wird eingestellt\n",
    "border_style = Side(border_style=\"thin\", color=\"000000\")\n",
    "border_right = Border(right=border_style)\n",
    "cell_range = sheet[\"A2:A4\"]\n",
    "for row in cell_range:\n",
    "    for cell in row:\n",
    "        cell.border = border_right\n"
   ]
  },
  {
   "cell_type": "code",
   "execution_count": 4,
   "id": "3310f881",
   "metadata": {
    "scrolled": false
   },
   "outputs": [
    {
     "name": "stdout",
     "output_type": "stream",
     "text": [
      "Apple Inc\n",
      "NVIDIA\n",
      "Bank of America\n"
     ]
    }
   ],
   "source": [
    "# Eintragung  der Spaltenüberschriften \n",
    "sheet.cell(row=1, column=1, value=\"Name:\")\n",
    "sheet.cell(row=1, column=2, value=\"Kurs:\")\n",
    "\n",
    "#Index damit die Werte ab der zweiten Zeile eingetragen werden\n",
    "row_index = 2\n",
    "\n",
    "#Angegebene URL wird verwendet, um den HTML-Code abzubilden\n",
    "for p in url_test:\n",
    "    page=requests.get(p)\n",
    "    source_c=BeautifulSoup(page.text, 'html.parser')\n",
    "    \n",
    "    #Ausfilterung der Aktiennamen\n",
    "    for x_tag in source_c.find_all(\"h1\"):\n",
    "        headline=x_tag.text.split(\"-\")[0].strip()\n",
    "        \n",
    "        #Eintragung in Excel\n",
    "        for i in range(len(headline)):\n",
    "            zelle_h = sheet.cell(row=row_index, column=1)\n",
    "            zelle_h.value = headline\n",
    "            row_index += 1\n",
    "            print(zelle_h.value)\n",
    "            break\n",
    "            "
   ]
  },
  {
   "cell_type": "code",
   "execution_count": 5,
   "id": "91819789",
   "metadata": {},
   "outputs": [
    {
     "name": "stdout",
     "output_type": "stream",
     "text": [
      "ERROR keine ZAHL\n",
      "ERROR keine ZAHL\n",
      "ERROR keine ZAHL\n"
     ]
    }
   ],
   "source": [
    "#Index damit die Werte ab der zweiten Zeile eingetragen werden\n",
    "row_index = 2\n",
    "\n",
    "#Angegebene URL wird verwendet, um den HTML-Code abzubilden\n",
    "for p in url_test:\n",
    "    page=requests.get(p)\n",
    "    source_c=BeautifulSoup(page.text, 'html.parser')\n",
    "    \n",
    "    #Ausfilterung des Aktienkurs\n",
    "    for data in source_c.find_all(\"b\"):\n",
    "        text = data.text.strip()\n",
    "        \n",
    "        # Überprüfung ob der Text eine Zahl bzw. Float ist\n",
    "        if text.replace(\".\", \"\", 1).isdigit():  \n",
    "            value = float(text)\n",
    "            print(value)\n",
    "            \n",
    "            #Eintragung in Excel\n",
    "            zelle_v = sheet.cell(row=row_index, column=2)\n",
    "            zelle_v.value = value\n",
    "            row_index += 1\n",
    "            break\n",
    "            \n",
    "        else:\n",
    "            print(\"ERROR keine ZAHL\")\n",
    "            break"
   ]
  },
  {
   "cell_type": "code",
   "execution_count": 6,
   "id": "8b2581c4",
   "metadata": {},
   "outputs": [],
   "source": [
    "#Speicherung der Excel \n",
    "workbook.save('Aktuelle Daten.xlsx')\n"
   ]
  }
 ],
 "metadata": {
  "kernelspec": {
   "display_name": "Python 3 (ipykernel)",
   "language": "python",
   "name": "python3"
  },
  "language_info": {
   "codemirror_mode": {
    "name": "ipython",
    "version": 3
   },
   "file_extension": ".py",
   "mimetype": "text/x-python",
   "name": "python",
   "nbconvert_exporter": "python",
   "pygments_lexer": "ipython3",
   "version": "3.9.12"
  }
 },
 "nbformat": 4,
 "nbformat_minor": 5
}
